{
 "cells": [
  {
   "cell_type": "code",
   "execution_count": 7,
   "metadata": {},
   "outputs": [],
   "source": [
    "from email.contentmanager import raw_data_manager\n",
    "from pydoc import classname\n",
    "import numpy as np\n",
    "import pandas as pd\n",
    "\n",
    "filename = 'heart_failure_clinical_records_dataset.csv'\n",
    "df = pd.read_csv(filename)\n",
    "raw_data = df.values\n",
    "#hola\n",
    "cols = range(0, 13)\n",
    "\n",
    "X = raw_data[:, cols]\n",
    "\n",
    "attribute_names = np.asarray(df.columns[cols])\n",
    "attribute_dic = dict(zip(attribute_names, range(len(attribute_names))))\n",
    "\n",
    "# Our class labels is DEATH \n",
    "classLabels = raw_data[:, -1]\n",
    "classNames = [\"ALIVE\", \"DEAD\"]\n",
    "classDic = dict(zip(classNames, range(len(classNames))))\n",
    "y = np.array([classDic[i] for i in classNames])\n",
    "\n",
    "N, M = X.shape\n",
    "C = len(classNames)"
   ]
  },
  {
   "cell_type": "code",
   "execution_count": 8,
   "metadata": {},
   "outputs": [
    {
     "ename": "IndexError",
     "evalue": "boolean index did not match indexed array along dimension 0; dimension is 299 but corresponding boolean dimension is 2",
     "output_type": "error",
     "traceback": [
      "\u001b[0;31m---------------------------------------------------------------------------\u001b[0m",
      "\u001b[0;31mIndexError\u001b[0m                                Traceback (most recent call last)",
      "\u001b[1;32m/home/erik/anaconda3/envs/test_dataset/code/test.ipynb Cell 2\u001b[0m in \u001b[0;36m<cell line: 9>\u001b[0;34m()\u001b[0m\n\u001b[1;32m      <a href='vscode-notebook-cell://wsl%2Bubuntu/home/erik/anaconda3/envs/test_dataset/code/test.ipynb#W1sdnNjb2RlLXJlbW90ZQ%3D%3D?line=8'>9</a>\u001b[0m \u001b[39mfor\u001b[39;00m c \u001b[39min\u001b[39;00m \u001b[39mrange\u001b[39m(C):\n\u001b[1;32m     <a href='vscode-notebook-cell://wsl%2Bubuntu/home/erik/anaconda3/envs/test_dataset/code/test.ipynb#W1sdnNjb2RlLXJlbW90ZQ%3D%3D?line=9'>10</a>\u001b[0m     class_mask \u001b[39m=\u001b[39m y\u001b[39m==\u001b[39mc\n\u001b[0;32m---> <a href='vscode-notebook-cell://wsl%2Bubuntu/home/erik/anaconda3/envs/test_dataset/code/test.ipynb#W1sdnNjb2RlLXJlbW90ZQ%3D%3D?line=10'>11</a>\u001b[0m     plt\u001b[39m.\u001b[39mplot(X[class_mask,i], X[class_mask,j], \u001b[39m'\u001b[39m\u001b[39mo\u001b[39m\u001b[39m'\u001b[39m,alpha\u001b[39m=\u001b[39m\u001b[39m.3\u001b[39m)\n\u001b[1;32m     <a href='vscode-notebook-cell://wsl%2Bubuntu/home/erik/anaconda3/envs/test_dataset/code/test.ipynb#W1sdnNjb2RlLXJlbW90ZQ%3D%3D?line=12'>13</a>\u001b[0m plt\u001b[39m.\u001b[39mlegend(classNames)\n\u001b[1;32m     <a href='vscode-notebook-cell://wsl%2Bubuntu/home/erik/anaconda3/envs/test_dataset/code/test.ipynb#W1sdnNjb2RlLXJlbW90ZQ%3D%3D?line=13'>14</a>\u001b[0m plt\u001b[39m.\u001b[39mxlabel(attribute_names[i])\n",
      "\u001b[0;31mIndexError\u001b[0m: boolean index did not match indexed array along dimension 0; dimension is 299 but corresponding boolean dimension is 2"
     ]
    },
    {
     "data": {
      "image/png": "[encoded data removed]",
      "text/plain": [
       "<Figure size 640x480 with 1 Axes>"
      ]
     },
     "metadata": {},
     "output_type": "display_data"
    }
   ],
   "source": [
    "import matplotlib.pyplot as plt\n",
    "\n",
    "i = attribute_dic[\"age\"]\n",
    "j = attribute_dic[\"smoking\"]\n",
    "\n",
    "f = plt.figure()\n",
    "plt.title('Age - Smoking')\n",
    "\n",
    "for c in range(C):\n",
    "    class_mask = y==c\n",
    "    plt.plot(X[class_mask,i], X[class_mask,j], 'o',alpha=.3)\n",
    "\n",
    "plt.legend(classNames)\n",
    "plt.xlabel(attribute_names[i])\n",
    "plt.ylabel(attribute_names[j])\n",
    "\n",
    "# Output result to screen\n",
    "plt.show()\n",
    "\n",
    "#testing\n",
    "\n",
    "\n"
   ]
  }
 ],
 "metadata": {
  "kernelspec": {
   "display_name": "Python 3.10.4 ('test_dataset')",
   "language": "python",
   "name": "python3"
  },
  "language_info": {
   "codemirror_mode": {
    "name": "ipython",
    "version": 3
   },
   "file_extension": ".py",
   "mimetype": "text/x-python",
   "name": "python",
   "nbconvert_exporter": "python",
   "pygments_lexer": "ipython3",
   "version": "3.10.4"
  },
  "orig_nbformat": 4,
  "vscode": {
   "interpreter": {
    "hash": "0042c6aeda48b659aa2d60dce54b16dab928e7c390cdf0e479093450608d368f"
   }
  }
 },
 "nbformat": 4,
 "nbformat_minor": 2
}
