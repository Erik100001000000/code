{
 "cells": [
  {
   "cell_type": "markdown",
   "metadata": {},
   "source": [
    "# **Two fold cross validation for logistic regression and baseline**"
   ]
  },
  {
   "cell_type": "markdown",
   "metadata": {},
   "source": [
    "## Imports"
   ]
  },
  {
   "cell_type": "code",
   "execution_count": 1,
   "metadata": {},
   "outputs": [],
   "source": [
    "import matplotlib.pyplot as plt\n",
    "import numpy as np\n",
    "from sklearn.model_selection import train_test_split\n",
    "from sklearn.linear_model import LogisticRegression\n",
    "from sklearn.base import clone\n",
    "from sklearn.model_selection import StratifiedKFold\n",
    "from sklearn.metrics import confusion_matrix, precision_score\n",
    "import pandas as pd"
   ]
  },
  {
   "cell_type": "markdown",
   "metadata": {},
   "source": [
    "## Load dataset"
   ]
  },
  {
   "cell_type": "code",
   "execution_count": 2,
   "metadata": {},
   "outputs": [],
   "source": [
    "filename = 'heart_failure_clinical_records_dataset.csv'\n",
    "df = pd.read_csv(filename)\n",
    "y = df['DEATH_EVENT']\n",
    "X = df.drop(['DEATH_EVENT'], axis = 1)\n",
    "attributeNames = list(X.keys())\n",
    "\n",
    "classNames = \"DEATH_EVENT\"\n",
    "N, M = X.shape\n",
    "C = len(classNames)"
   ]
  },
  {
   "cell_type": "markdown",
   "metadata": {},
   "source": [
    "## Define our models\n",
    "\n",
    "We are going to define two models:\n",
    "\n",
    "- A baseline\n",
    "- A logistic regression "
   ]
  },
  {
   "cell_type": "markdown",
   "metadata": {},
   "source": [
    "### Baseline"
   ]
  },
  {
   "cell_type": "code",
   "execution_count": null,
   "metadata": {},
   "outputs": [],
   "source": [
    "# In our dataset there are more entries of the class 0 (Survived)\n",
    "# The best possible accuracy will be around 70% given our dataset\n",
    "def baseline():\n",
    "    return 0\n"
   ]
  },
  {
   "cell_type": "markdown",
   "metadata": {},
   "source": [
    "### Logistic regression"
   ]
  },
  {
   "cell_type": "code",
   "execution_count": null,
   "metadata": {},
   "outputs": [],
   "source": [
    "regularization_force = 1/1e-8\n",
    "log_reg = lambda regularization: LogisticRegression(penalty=\"l2\", C= 1/regularization)"
   ]
  },
  {
   "cell_type": "markdown",
   "metadata": {},
   "source": [
    "## Two fold cross-validation"
   ]
  },
  {
   "cell_type": "code",
   "execution_count": null,
   "metadata": {},
   "outputs": [],
   "source": [
    "K1 = 10 # Number of outer folds\n",
    "K2 = 10 # Number of inner folds\n",
    "error_LG = []\n",
    "\n",
    "for i in range(K1):\n",
    "    print('\\nCrossvalidation outer fold: {0}/{1}'.format(i+1,K1))    \n",
    "    X_train_f1, X_test_f1, y_train_f1, y_test_f1 = train_test_split(X, y, test_size=0.8, stratify=y)\n",
    "\n",
    "    # Standardize the training set based on training set mean and std\n",
    "    mu = np.mean(X_train, 0)\n",
    "    sigma = np.std(X_train, 0)\n",
    "\n",
    "    X_train = (X_train - mu) / sigma\n",
    "    X_test = (X_test - mu) / sigma\n",
    "\n",
    "    innerKfold = StratifiedKFold(n_splits= K2, shuffle=True)\n",
    "    for k, train_index, test_index in enumerate(innerKfold.split(X_train_f1, y_train_f1)):\n",
    "        X_train_f2 = X_train_f1[train_index]\n",
    "        X_test_f2 = X_test_f1[train_index]\n",
    "        y_train_f2 = y_train_f1[train_index]\n",
    "        y_test_f2 = y_test_f1[test_index]\n",
    "\n",
    "        log_reg()\n",
    "\n",
    "    \n"
   ]
  }
 ],
 "metadata": {
  "kernelspec": {
   "display_name": "Python 3.7.13 ('ann')",
   "language": "python",
   "name": "python3"
  },
  "language_info": {
   "codemirror_mode": {
    "name": "ipython",
    "version": 3
   },
   "file_extension": ".py",
   "mimetype": "text/x-python",
   "name": "python",
   "nbconvert_exporter": "python",
   "pygments_lexer": "ipython3",
   "version": "3.7.13"
  },
  "orig_nbformat": 4,
  "vscode": {
   "interpreter": {
    "hash": "a8b4e3371b54d7388ec29d45549dbada5a2ead940d1a974c186be5493bc53cc2"
   }
  }
 },
 "nbformat": 4,
 "nbformat_minor": 2
}
